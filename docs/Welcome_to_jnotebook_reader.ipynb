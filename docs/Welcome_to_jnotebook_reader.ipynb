{
 "cells": [
  {
   "cell_type": "markdown",
   "metadata": {},
   "source": [
    "# Welcome to jnotebook-reader!"
   ]
  },
  {
   "cell_type": "markdown",
   "metadata": {},
   "source": [
    "### What features does jnotebook-reader provide?"
   ]
  },
  {
   "cell_type": "code",
   "execution_count": 1,
   "metadata": {
    "execution": {
     "iopub.execute_input": "2020-11-16T20:56:25.478459Z",
     "iopub.status.busy": "2020-11-16T20:56:25.478161Z",
     "iopub.status.idle": "2020-11-16T20:56:25.482327Z",
     "shell.execute_reply": "2020-11-16T20:56:25.481453Z",
     "shell.execute_reply.started": "2020-11-16T20:56:25.478437Z"
    }
   },
   "outputs": [],
   "source": [
    "features = {\n",
    "    \"viewer\": \"Browse and read a Jupyter Notebook file from local or Amazon S3-like object storage(Google Cloud Storage, MinIO)\",\n",
    "    \"multiple buckets\": \"Register and access multiple directories(or buckets) at the same time\",\n",
    "    \"toc\": \"Show and allow to config ToC(Table of Contents) included in your Jupyter Notebook\",\n",
    "    \"hide_code\": \"Hide/show all codes in your Jupyter Notebook interactively\",\n",
    "    \"permanent_link\": \"Generate a permanent link about your Jupyter Notebook\",\n",
    "    \"download\": \"Download your Jupyter Notebook in one click\",\n",
    "}"
   ]
  },
  {
   "cell_type": "code",
   "execution_count": 2,
   "metadata": {
    "execution": {
     "iopub.execute_input": "2020-11-16T20:56:25.483832Z",
     "iopub.status.busy": "2020-11-16T20:56:25.483596Z",
     "iopub.status.idle": "2020-11-16T20:56:25.487690Z",
     "shell.execute_reply": "2020-11-16T20:56:25.486931Z",
     "shell.execute_reply.started": "2020-11-16T20:56:25.483812Z"
    }
   },
   "outputs": [
    {
     "name": "stdout",
     "output_type": "stream",
     "text": [
      "{\n",
      "    \"viewer\": \"Browse and read a Jupyter Notebook file from local or Amazon S3-like object storage(Google Cloud Storage, MinIO)\",\n",
      "    \"multiple buckets\": \"Register and access multiple directories(or buckets) at the same time\",\n",
      "    \"toc\": \"Show and allow to config ToC(Table of Contents) included in your Jupyter Notebook\",\n",
      "    \"hide_code\": \"Hide/show all codes in your Jupyter Notebook interactively\",\n",
      "    \"permanent_link\": \"Generate a permanent link about your Jupyter Notebook\",\n",
      "    \"download\": \"Download your Jupyter Notebook in one click\"\n",
      "}\n"
     ]
    }
   ],
   "source": [
    "import json\n",
    "print(json.dumps(features, indent=4))"
   ]
  },
  {
   "cell_type": "markdown",
   "metadata": {},
   "source": [
    "### Quick Start"
   ]
  },
  {
   "cell_type": "code",
   "execution_count": 3,
   "metadata": {
    "execution": {
     "iopub.execute_input": "2020-11-16T20:56:25.489288Z",
     "iopub.status.busy": "2020-11-16T20:56:25.489050Z",
     "iopub.status.idle": "2020-11-16T20:56:25.492229Z",
     "shell.execute_reply": "2020-11-16T20:56:25.491455Z",
     "shell.execute_reply.started": "2020-11-16T20:56:25.489268Z"
    }
   },
   "outputs": [],
   "source": [
    "quick_start_steps = [\n",
    "    \"git clone https://github.com/line/jnotebook-reader.git\",\n",
    "    \"cd jnotebook-reader\",\n",
    "    \"pip install -r requirements.txt\",\n",
    "    \"python app.py\",\n",
    "]"
   ]
  },
  {
   "cell_type": "code",
   "execution_count": 4,
   "metadata": {
    "execution": {
     "iopub.execute_input": "2020-11-16T20:56:25.493649Z",
     "iopub.status.busy": "2020-11-16T20:56:25.493416Z",
     "iopub.status.idle": "2020-11-16T20:56:25.497327Z",
     "shell.execute_reply": "2020-11-16T20:56:25.496643Z",
     "shell.execute_reply.started": "2020-11-16T20:56:25.493629Z"
    }
   },
   "outputs": [
    {
     "name": "stdout",
     "output_type": "stream",
     "text": [
      "[\n",
      "    \"git clone https://github.com/line/jnotebook-reader.git\",\n",
      "    \"cd jnotebook-reader\",\n",
      "    \"pip install -r requirements.txt\",\n",
      "    \"python app.py\"\n",
      "]\n"
     ]
    }
   ],
   "source": [
    "print(json.dumps(quick_start_steps, indent=4))\n"
   ]
  },
  {
   "cell_type": "markdown",
   "metadata": {},
   "source": [
    "# Jupyter Notebook's Rich Display"
   ]
  },
  {
   "cell_type": "markdown",
   "metadata": {},
   "source": [
    "### Image"
   ]
  },
  {
   "cell_type": "code",
   "execution_count": 5,
   "metadata": {
    "execution": {
     "iopub.execute_input": "2020-11-16T20:56:25.498536Z",
     "iopub.status.busy": "2020-11-16T20:56:25.498294Z",
     "iopub.status.idle": "2020-11-16T20:56:25.507859Z",
     "shell.execute_reply": "2020-11-16T20:56:25.507343Z",
     "shell.execute_reply.started": "2020-11-16T20:56:25.498513Z"
    }
   },
   "outputs": [
    {
     "data": {
      "text/html": [
       "<img src=\"http://python.org/images/python-logo.gif\"/>"
      ],
      "text/plain": [
       "<IPython.core.display.Image object>"
      ]
     },
     "execution_count": 5,
     "metadata": {},
     "output_type": "execute_result"
    }
   ],
   "source": [
    "from IPython.display import Image\n",
    "Image(url='http://python.org/images/python-logo.gif')"
   ]
  },
  {
   "cell_type": "markdown",
   "metadata": {},
   "source": [
    "### Audio"
   ]
  },
  {
   "cell_type": "code",
   "execution_count": 6,
   "metadata": {
    "execution": {
     "iopub.execute_input": "2020-11-16T20:56:25.508884Z",
     "iopub.status.busy": "2020-11-16T20:56:25.508655Z",
     "iopub.status.idle": "2020-11-16T20:56:25.515874Z",
     "shell.execute_reply": "2020-11-16T20:56:25.515381Z",
     "shell.execute_reply.started": "2020-11-16T20:56:25.508863Z"
    }
   },
   "outputs": [
    {
     "data": {
      "text/html": [
       "\n",
       "                <audio  controls=\"controls\" >\n",
       "                    <source src=\"http://www.nch.com.au/acm/8k16bitpcm.wav\" type=\"audio/x-wav\" />\n",
       "                    Your browser does not support the audio element.\n",
       "                </audio>\n",
       "              "
      ],
      "text/plain": [
       "<IPython.lib.display.Audio object>"
      ]
     },
     "execution_count": 6,
     "metadata": {},
     "output_type": "execute_result"
    }
   ],
   "source": [
    "from IPython.display import Audio\n",
    "Audio(url=\"http://www.nch.com.au/acm/8k16bitpcm.wav\")"
   ]
  },
  {
   "cell_type": "markdown",
   "metadata": {},
   "source": [
    "### LaTeX"
   ]
  },
  {
   "cell_type": "code",
   "execution_count": 7,
   "metadata": {
    "execution": {
     "iopub.execute_input": "2020-11-16T20:56:25.516857Z",
     "iopub.status.busy": "2020-11-16T20:56:25.516636Z",
     "iopub.status.idle": "2020-11-16T20:56:25.520814Z",
     "shell.execute_reply": "2020-11-16T20:56:25.520283Z",
     "shell.execute_reply.started": "2020-11-16T20:56:25.516837Z"
    }
   },
   "outputs": [
    {
     "data": {
      "text/latex": [
       "$$c = \\sqrt{a^2 + b^2}$$\n"
      ],
      "text/plain": [
       "<IPython.core.display.Latex object>"
      ]
     },
     "metadata": {},
     "output_type": "display_data"
    }
   ],
   "source": [
    "%%latex\n",
    "$$c = \\sqrt{a^2 + b^2}$$"
   ]
  },
  {
   "cell_type": "markdown",
   "metadata": {},
   "source": [
    "### more features there!"
   ]
  },
  {
   "cell_type": "code",
   "execution_count": null,
   "metadata": {},
   "outputs": [],
   "source": []
  }
 ],
 "metadata": {
  "kernelspec": {
   "display_name": "Python 3",
   "language": "python",
   "name": "python3"
  },
  "language_info": {
   "codemirror_mode": {
    "name": "ipython",
    "version": 3
   },
   "file_extension": ".py",
   "mimetype": "text/x-python",
   "name": "python",
   "nbconvert_exporter": "python",
   "pygments_lexer": "ipython3",
   "version": "3.6.11"
  }
 },
 "nbformat": 4,
 "nbformat_minor": 4
}
